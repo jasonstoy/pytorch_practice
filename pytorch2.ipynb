{
  "nbformat": 4,
  "nbformat_minor": 0,
  "metadata": {
    "colab": {
      "name": "pytorch2.ipynb",
      "provenance": [],
      "collapsed_sections": [],
      "authorship_tag": "ABX9TyPIVM+bGbok6TIl1L9okSpn",
      "include_colab_link": true
    },
    "kernelspec": {
      "name": "python3",
      "display_name": "Python 3"
    },
    "accelerator": "GPU"
  },
  "cells": [
    {
      "cell_type": "markdown",
      "metadata": {
        "id": "view-in-github",
        "colab_type": "text"
      },
      "source": [
        "<a href=\"https://colab.research.google.com/github/jasonstoy/pytorch_practice/blob/master/pytorch2.ipynb\" target=\"_parent\"><img src=\"https://colab.research.google.com/assets/colab-badge.svg\" alt=\"Open In Colab\"/></a>"
      ]
    },
    {
      "cell_type": "markdown",
      "metadata": {
        "id": "U1V15jlhFDXt",
        "colab_type": "text"
      },
      "source": [
        "# PYTORCH 2"
      ]
    },
    {
      "cell_type": "markdown",
      "metadata": {
        "id": "vI11QQ6oFIJh",
        "colab_type": "text"
      },
      "source": [
        "## REVIEW\n",
        "- May 21, 2020"
      ]
    },
    {
      "cell_type": "code",
      "metadata": {
        "id": "pxd2EVMsE6lC",
        "colab_type": "code",
        "colab": {}
      },
      "source": [
        "import torch\n",
        "import numpy as np"
      ],
      "execution_count": 0,
      "outputs": []
    },
    {
      "cell_type": "code",
      "metadata": {
        "id": "aHPeJy1NGtn-",
        "colab_type": "code",
        "colab": {}
      },
      "source": [
        "N, D_in, H, D_out = 64, 1000, 100, 10"
      ],
      "execution_count": 0,
      "outputs": []
    },
    {
      "cell_type": "code",
      "metadata": {
        "id": "OzG83E_mHEPX",
        "colab_type": "code",
        "colab": {
          "base_uri": "https://localhost:8080/",
          "height": 136
        },
        "outputId": "37fc9c7a-b5a5-4912-ffbe-0eaf035e060f"
      },
      "source": [
        "x = torch.randn(N,D_in)\n",
        "x"
      ],
      "execution_count": 13,
      "outputs": [
        {
          "output_type": "execute_result",
          "data": {
            "text/plain": [
              "tensor([[ 0.6756, -0.6361, -0.7658,  ..., -0.0592, -1.3060, -0.0069],\n",
              "        [-1.7271, -1.3989,  0.4075,  ..., -0.5947,  2.2059,  2.5739],\n",
              "        [ 0.2905, -0.4612, -0.6612,  ..., -1.1813, -0.5127, -2.0293],\n",
              "        ...,\n",
              "        [ 0.0918,  0.9272,  0.5721,  ...,  0.9240,  0.2361, -1.1486],\n",
              "        [ 1.3396,  1.9211,  0.9010,  ..., -0.0175,  0.2183,  0.6292],\n",
              "        [ 0.6558,  0.4553, -0.2183,  ...,  0.3178,  0.4194, -0.2498]])"
            ]
          },
          "metadata": {
            "tags": []
          },
          "execution_count": 13
        }
      ]
    },
    {
      "cell_type": "code",
      "metadata": {
        "id": "mOOTv_gMHPuk",
        "colab_type": "code",
        "colab": {
          "base_uri": "https://localhost:8080/",
          "height": 71
        },
        "outputId": "9990410c-fa49-4272-88ef-c374b2822aa9"
      },
      "source": [
        "y = torch.randn(D_out)\n",
        "y"
      ],
      "execution_count": 17,
      "outputs": [
        {
          "output_type": "execute_result",
          "data": {
            "text/plain": [
              "tensor([ 0.0073, -0.4503,  0.2335, -0.3067, -2.3312, -0.8095, -1.8325, -0.4322,\n",
              "         1.0187,  0.1905])"
            ]
          },
          "metadata": {
            "tags": []
          },
          "execution_count": 17
        }
      ]
    },
    {
      "cell_type": "code",
      "metadata": {
        "id": "JflzUacYHU37",
        "colab_type": "code",
        "colab": {}
      },
      "source": [
        "class TwoLayerNet (torch.nn.Module):\n",
        "  def __init__(self, D_in, H, D_out):\n",
        "    super(TwoLayerNet,self).__init__()\n",
        "    self.linear1 = torch.nn.Linear(D_in, H, bias=False)\n",
        "    self.linear2 = torch.nn.Linear(H, D_out, bias=False)\n",
        "\n",
        "  def forward(self, x):\n",
        "    y_pred = self.linear2(self.linear1(x).clamp(min=0))\n",
        "    return y_pred\n",
        "        "
      ],
      "execution_count": 0,
      "outputs": []
    },
    {
      "cell_type": "code",
      "metadata": {
        "id": "NeDMLfqZXkyX",
        "colab_type": "code",
        "colab": {}
      },
      "source": [
        "model = TwoLayerNet(D_in, H, D_out)\n",
        "loss_fn = torch.nn.MSELoss(reduction='sum')\n",
        "learning_rate  =1e-4\n",
        "optimizer = torch.optim.Adam(model.parameters(), lr=learning_rate)\n",
        "\n",
        "for it in range(500):\n",
        "\n",
        "  y_pred = model(x)\n",
        "  loss = loss_fn(y_pred, y)\n",
        "  print(loss.item())\n",
        "\n",
        "  optimizer.zero_grad()\n",
        "\n",
        "  loss.backward()\n",
        "  optimizer.step()"
      ],
      "execution_count": 0,
      "outputs": []
    },
    {
      "cell_type": "markdown",
      "metadata": {
        "id": "YDpb3OPbaQj7",
        "colab_type": "text"
      },
      "source": [
        "## FizzBuzz"
      ]
    },
    {
      "cell_type": "code",
      "metadata": {
        "id": "PNWlxMoeYiXF",
        "colab_type": "code",
        "colab": {}
      },
      "source": [
        "def fizz_buzz_encode(x):\n",
        "  if x%15 == 0:\n",
        "    return 3\n",
        "  elif x%5 == 0:\n",
        "    return 2\n",
        "  elif x%3 ==0:\n",
        "    return 1\n",
        "  else:\n",
        "    return 0\n",
        "\n",
        "def fizz_buzz_decode(x,prediction):\n",
        "  return[str(x),'fizz','buzz','fizzbuzz'][prediction]\n",
        "\n",
        "def helper(x):\n",
        "  print(fizz_buzz_decode(x,fizz_buzz_encode(x)))"
      ],
      "execution_count": 0,
      "outputs": []
    },
    {
      "cell_type": "code",
      "metadata": {
        "id": "v_wPutySbyxR",
        "colab_type": "code",
        "colab": {
          "base_uri": "https://localhost:8080/",
          "height": 272
        },
        "outputId": "b58ea25d-c8ae-4c06-bcc5-3ebb1f170485"
      },
      "source": [
        "for i in range(1,16):\n",
        "  helper(i)"
      ],
      "execution_count": 31,
      "outputs": [
        {
          "output_type": "stream",
          "text": [
            "1\n",
            "2\n",
            "fizz\n",
            "4\n",
            "buzz\n",
            "fizz\n",
            "7\n",
            "8\n",
            "fizz\n",
            "buzz\n",
            "11\n",
            "fizz\n",
            "13\n",
            "14\n",
            "fizzbuzz\n"
          ],
          "name": "stdout"
        }
      ]
    },
    {
      "cell_type": "code",
      "metadata": {
        "id": "XEK5Y_86b56M",
        "colab_type": "code",
        "colab": {}
      },
      "source": [
        ""
      ],
      "execution_count": 0,
      "outputs": []
    }
  ]
}