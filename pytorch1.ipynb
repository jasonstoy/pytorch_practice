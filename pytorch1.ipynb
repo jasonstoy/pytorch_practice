{
  "nbformat": 4,
  "nbformat_minor": 0,
  "metadata": {
    "colab": {
      "name": "pytorch1.ipynb",
      "provenance": [],
      "collapsed_sections": [],
      "authorship_tag": "ABX9TyPqdLRV1g9PFXr3SNftVPXH",
      "include_colab_link": true
    },
    "kernelspec": {
      "name": "python3",
      "display_name": "Python 3"
    },
    "accelerator": "GPU"
  },
  "cells": [
    {
      "cell_type": "markdown",
      "metadata": {
        "id": "view-in-github",
        "colab_type": "text"
      },
      "source": [
        "<a href=\"https://colab.research.google.com/github/jasonstoy/pytorch_practice/blob/master/pytorch1.ipynb\" target=\"_parent\"><img src=\"https://colab.research.google.com/assets/colab-badge.svg\" alt=\"Open In Colab\"/></a>"
      ]
    },
    {
      "cell_type": "markdown",
      "metadata": {
        "id": "rbrAg2PjxqW5",
        "colab_type": "text"
      },
      "source": [
        "# **PYTORCH**"
      ]
    },
    {
      "cell_type": "markdown",
      "metadata": {
        "id": "hl4obbwYxykD",
        "colab_type": "text"
      },
      "source": [
        "- May 21, **2020**"
      ]
    },
    {
      "cell_type": "code",
      "metadata": {
        "id": "IvwzUrF8xQXw",
        "colab_type": "code",
        "colab": {}
      },
      "source": [
        "import torch\n",
        "import numpy as np"
      ],
      "execution_count": 0,
      "outputs": []
    },
    {
      "cell_type": "code",
      "metadata": {
        "id": "KDs8KLcnxY2u",
        "colab_type": "code",
        "colab": {
          "base_uri": "https://localhost:8080/",
          "height": 102
        },
        "outputId": "0ba04af8-669f-485a-ac9f-9fe1df8fbfb7"
      },
      "source": [
        "x = torch.empty(5,3)\n",
        "x"
      ],
      "execution_count": 3,
      "outputs": [
        {
          "output_type": "execute_result",
          "data": {
            "text/plain": [
              "tensor([[2.5004e-36, 0.0000e+00, 0.0000e+00],\n",
              "        [0.0000e+00, 0.0000e+00, 0.0000e+00],\n",
              "        [0.0000e+00, 0.0000e+00, 0.0000e+00],\n",
              "        [0.0000e+00, 0.0000e+00, 0.0000e+00],\n",
              "        [0.0000e+00, 0.0000e+00, 0.0000e+00]])"
            ]
          },
          "metadata": {
            "tags": []
          },
          "execution_count": 3
        }
      ]
    },
    {
      "cell_type": "code",
      "metadata": {
        "id": "BoPBNGuHxWfo",
        "colab_type": "code",
        "colab": {
          "base_uri": "https://localhost:8080/",
          "height": 102
        },
        "outputId": "ff8200b0-2e6a-4695-9780-4fb1b43152ec"
      },
      "source": [
        "x = torch.ones(5,3,dtype= torch.long)\n",
        "x"
      ],
      "execution_count": 7,
      "outputs": [
        {
          "output_type": "execute_result",
          "data": {
            "text/plain": [
              "tensor([[1, 1, 1],\n",
              "        [1, 1, 1],\n",
              "        [1, 1, 1],\n",
              "        [1, 1, 1],\n",
              "        [1, 1, 1]])"
            ]
          },
          "metadata": {
            "tags": []
          },
          "execution_count": 7
        }
      ]
    },
    {
      "cell_type": "code",
      "metadata": {
        "id": "TmaHfNYNyOas",
        "colab_type": "code",
        "colab": {
          "base_uri": "https://localhost:8080/",
          "height": 102
        },
        "outputId": "95cd74b9-65e5-4cc0-9d04-1c77234f2a94"
      },
      "source": [
        "y = torch.empty(5,3).long()\n",
        "y"
      ],
      "execution_count": 9,
      "outputs": [
        {
          "output_type": "execute_result",
          "data": {
            "text/plain": [
              "tensor([[                   0,                    0,                    0],\n",
              "        [                   0,                    0,                    0],\n",
              "        [                   0,                    0,                    0],\n",
              "        [                   0,                    0, -9223372036854775808],\n",
              "        [-9223372036854775808, -9223372036854775808,                    0]])"
            ]
          },
          "metadata": {
            "tags": []
          },
          "execution_count": 9
        }
      ]
    },
    {
      "cell_type": "code",
      "metadata": {
        "id": "t1TIxVqy35GS",
        "colab_type": "code",
        "colab": {}
      },
      "source": [
        "z = x + y\n",
        "# inplace \n",
        "# z.add_(x) "
      ],
      "execution_count": 0,
      "outputs": []
    },
    {
      "cell_type": "code",
      "metadata": {
        "id": "6MvSqHLK39Ho",
        "colab_type": "code",
        "colab": {
          "base_uri": "https://localhost:8080/",
          "height": 85
        },
        "outputId": "dde38533-0d98-4453-c8cd-46db19cb98f6"
      },
      "source": [
        "x = torch.randn(4,4)\n",
        "x"
      ],
      "execution_count": 17,
      "outputs": [
        {
          "output_type": "execute_result",
          "data": {
            "text/plain": [
              "tensor([[ 1.8231, -1.8301,  0.0731,  0.0339],\n",
              "        [-1.1226, -1.2939,  0.8188, -0.6041],\n",
              "        [ 0.7105, -1.5135,  0.0739,  0.1089],\n",
              "        [-1.6870,  0.8656,  1.2959, -0.3530]])"
            ]
          },
          "metadata": {
            "tags": []
          },
          "execution_count": 17
        }
      ]
    },
    {
      "cell_type": "code",
      "metadata": {
        "id": "osSk7oOW4lxE",
        "colab_type": "code",
        "colab": {
          "base_uri": "https://localhost:8080/",
          "height": 51
        },
        "outputId": "83cdc171-2c56-486a-af20-63316d9cbf05"
      },
      "source": [
        "# reshape\n",
        "x.view(2,8)"
      ],
      "execution_count": 19,
      "outputs": [
        {
          "output_type": "execute_result",
          "data": {
            "text/plain": [
              "tensor([[ 1.8231, -1.8301,  0.0731,  0.0339, -1.1226, -1.2939,  0.8188, -0.6041],\n",
              "        [ 0.7105, -1.5135,  0.0739,  0.1089, -1.6870,  0.8656,  1.2959, -0.3530]])"
            ]
          },
          "metadata": {
            "tags": []
          },
          "execution_count": 19
        }
      ]
    },
    {
      "cell_type": "code",
      "metadata": {
        "id": "8GTk2A924lz2",
        "colab_type": "code",
        "colab": {
          "base_uri": "https://localhost:8080/",
          "height": 51
        },
        "outputId": "3ada51c1-7de8-4c66-c631-a8c7004ebbf6"
      },
      "source": [
        "x.view(-1,8)"
      ],
      "execution_count": 20,
      "outputs": [
        {
          "output_type": "execute_result",
          "data": {
            "text/plain": [
              "tensor([[ 1.8231, -1.8301,  0.0731,  0.0339, -1.1226, -1.2939,  0.8188, -0.6041],\n",
              "        [ 0.7105, -1.5135,  0.0739,  0.1089, -1.6870,  0.8656,  1.2959, -0.3530]])"
            ]
          },
          "metadata": {
            "tags": []
          },
          "execution_count": 20
        }
      ]
    },
    {
      "cell_type": "code",
      "metadata": {
        "id": "97smYw-v4ip7",
        "colab_type": "code",
        "colab": {
          "base_uri": "https://localhost:8080/",
          "height": 34
        },
        "outputId": "e87f7ce7-c6a4-42df-b6b4-a702c89a0db5"
      },
      "source": [
        "x = torch.randn(1)\n",
        "x.item()"
      ],
      "execution_count": 22,
      "outputs": [
        {
          "output_type": "execute_result",
          "data": {
            "text/plain": [
              "0.7784336805343628"
            ]
          },
          "metadata": {
            "tags": []
          },
          "execution_count": 22
        }
      ]
    },
    {
      "cell_type": "code",
      "metadata": {
        "id": "wS6_QIiV5RiK",
        "colab_type": "code",
        "colab": {
          "base_uri": "https://localhost:8080/",
          "height": 34
        },
        "outputId": "b935dd3e-031b-4d91-a04b-3a937664e52b"
      },
      "source": [
        "a = torch.ones(5)\n",
        "a"
      ],
      "execution_count": 25,
      "outputs": [
        {
          "output_type": "execute_result",
          "data": {
            "text/plain": [
              "tensor([1., 1., 1., 1., 1.])"
            ]
          },
          "metadata": {
            "tags": []
          },
          "execution_count": 25
        }
      ]
    },
    {
      "cell_type": "code",
      "metadata": {
        "id": "LmcMeUsX5mIA",
        "colab_type": "code",
        "colab": {
          "base_uri": "https://localhost:8080/",
          "height": 34
        },
        "outputId": "dbdc8af8-791c-4e87-c6e7-e6d3bd6249f3"
      },
      "source": [
        "a.numpy()"
      ],
      "execution_count": 26,
      "outputs": [
        {
          "output_type": "execute_result",
          "data": {
            "text/plain": [
              "array([1., 1., 1., 1., 1.], dtype=float32)"
            ]
          },
          "metadata": {
            "tags": []
          },
          "execution_count": 26
        }
      ]
    },
    {
      "cell_type": "code",
      "metadata": {
        "id": "AQnMer5P5p1-",
        "colab_type": "code",
        "colab": {
          "base_uri": "https://localhost:8080/",
          "height": 34
        },
        "outputId": "f4c305a4-4663-4002-a88a-50b4a0c210c0"
      },
      "source": [
        "a = np.ones(5)\n",
        "a"
      ],
      "execution_count": 28,
      "outputs": [
        {
          "output_type": "execute_result",
          "data": {
            "text/plain": [
              "array([1., 1., 1., 1., 1.])"
            ]
          },
          "metadata": {
            "tags": []
          },
          "execution_count": 28
        }
      ]
    },
    {
      "cell_type": "code",
      "metadata": {
        "id": "BdEDy2Ac53uk",
        "colab_type": "code",
        "colab": {
          "base_uri": "https://localhost:8080/",
          "height": 34
        },
        "outputId": "b3b91eb7-a9c6-4c44-b621-2202d60614e2"
      },
      "source": [
        "b = torch.from_numpy(a)\n",
        "b"
      ],
      "execution_count": 29,
      "outputs": [
        {
          "output_type": "execute_result",
          "data": {
            "text/plain": [
              "tensor([1., 1., 1., 1., 1.], dtype=torch.float64)"
            ]
          },
          "metadata": {
            "tags": []
          },
          "execution_count": 29
        }
      ]
    },
    {
      "cell_type": "code",
      "metadata": {
        "id": "XhklRrWI6EAk",
        "colab_type": "code",
        "colab": {
          "base_uri": "https://localhost:8080/",
          "height": 34
        },
        "outputId": "76c0fea5-af71-40a5-db28-4152767730f6"
      },
      "source": [
        "torch.cuda.is_available()"
      ],
      "execution_count": 3,
      "outputs": [
        {
          "output_type": "execute_result",
          "data": {
            "text/plain": [
              "True"
            ]
          },
          "metadata": {
            "tags": []
          },
          "execution_count": 3
        }
      ]
    },
    {
      "cell_type": "code",
      "metadata": {
        "id": "4RMO94Eb7MF7",
        "colab_type": "code",
        "colab": {}
      },
      "source": [
        "device = torch.device('cuda')"
      ],
      "execution_count": 0,
      "outputs": []
    },
    {
      "cell_type": "code",
      "metadata": {
        "id": "-VOd8Oib73Q1",
        "colab_type": "code",
        "colab": {}
      },
      "source": [
        "y = torch.ones(5).to(device)"
      ],
      "execution_count": 0,
      "outputs": []
    },
    {
      "cell_type": "code",
      "metadata": {
        "id": "ispIkLGy8Qox",
        "colab_type": "code",
        "colab": {
          "base_uri": "https://localhost:8080/",
          "height": 34
        },
        "outputId": "e6427216-3aff-4986-a78a-7cbac5d1d911"
      },
      "source": [
        "y.to('cpu').numpy()"
      ],
      "execution_count": 7,
      "outputs": [
        {
          "output_type": "execute_result",
          "data": {
            "text/plain": [
              "array([1., 1., 1., 1., 1.], dtype=float32)"
            ]
          },
          "metadata": {
            "tags": []
          },
          "execution_count": 7
        }
      ]
    },
    {
      "cell_type": "markdown",
      "metadata": {
        "id": "xdxvDraOA_uV",
        "colab_type": "text"
      },
      "source": [
        "## 2 layer NN"
      ]
    },
    {
      "cell_type": "code",
      "metadata": {
        "id": "-Rs19y9gAUYB",
        "colab_type": "code",
        "colab": {}
      },
      "source": [
        "N, D_in, H, D_out = 64, 1000, 100, 10"
      ],
      "execution_count": 0,
      "outputs": []
    },
    {
      "cell_type": "code",
      "metadata": {
        "id": "PMHIXjNJ8VCN",
        "colab_type": "code",
        "colab": {}
      },
      "source": [
        "x = np.random.randn(N,D_in)\n",
        "y = np.random.randn(N,D_out)"
      ],
      "execution_count": 0,
      "outputs": []
    },
    {
      "cell_type": "code",
      "metadata": {
        "id": "bUQ5FsC2AeEy",
        "colab_type": "code",
        "colab": {}
      },
      "source": [
        "w_1 = np.random.randn(D_in, H)\n",
        "w_2 = np.random.randn(H,D_out)"
      ],
      "execution_count": 0,
      "outputs": []
    },
    {
      "cell_type": "code",
      "metadata": {
        "id": "M3113PK3A4vk",
        "colab_type": "code",
        "colab": {}
      },
      "source": [
        "learning_rate = 1e-6"
      ],
      "execution_count": 0,
      "outputs": []
    },
    {
      "cell_type": "code",
      "metadata": {
        "id": "xq0d4iLHA-XK",
        "colab_type": "code",
        "colab": {}
      },
      "source": [
        "for it in range(500):\n",
        "  # forward pass\n",
        "  h = x.dot(w_1)\n",
        "  h_relu = np.maximum(h,0)\n",
        "  y_pred = h_relu.dot(w_2)\n",
        "\n",
        "  #compute loss\n",
        "  loss = np.square(y_pred-y).sum()\n",
        "  print(it, loss)\n",
        "\n",
        "  #compute gradient\n",
        "  grad_y_pred = 2.0 * (y_pred - y)\n",
        "  grad_w_2 = h_relu.T.dot(grad_y_pred)\n",
        "  grad_h_relu = grad_y_pred.dot(w_2.T)\n",
        "  grad_h = grad_h_relu.copy() \n",
        "  grad_h[h<0] = 0\n",
        "  grad_w_1 = x.T.dot(grad_h)\n",
        "\n",
        "  #update w1 w2\n",
        "  w_1 -= learning_rate * grad_w_1\n",
        "  w_2 -= learning_rate * grad_w_2"
      ],
      "execution_count": 0,
      "outputs": []
    },
    {
      "cell_type": "code",
      "metadata": {
        "id": "54cuXARcGEY_",
        "colab_type": "code",
        "colab": {}
      },
      "source": [
        ""
      ],
      "execution_count": 0,
      "outputs": []
    },
    {
      "cell_type": "markdown",
      "metadata": {
        "id": "LAjCI9qWGOHq",
        "colab_type": "text"
      },
      "source": [
        " - Pytorch version"
      ]
    },
    {
      "cell_type": "code",
      "metadata": {
        "id": "6vHYcd9oGD_z",
        "colab_type": "code",
        "colab": {}
      },
      "source": [
        "x = torch.randn(N,D_in)\n",
        "y = torch.randn(N,D_out)"
      ],
      "execution_count": 0,
      "outputs": []
    },
    {
      "cell_type": "code",
      "metadata": {
        "id": "LGxaqnZYGD23",
        "colab_type": "code",
        "colab": {}
      },
      "source": [
        "w_1 = torch.randn(D_in, H)\n",
        "w_2 = torch.randn(H,D_out)"
      ],
      "execution_count": 0,
      "outputs": []
    },
    {
      "cell_type": "code",
      "metadata": {
        "id": "4S9X_jK0GIZD",
        "colab_type": "code",
        "colab": {}
      },
      "source": [
        "learning_rate = 1e-6"
      ],
      "execution_count": 0,
      "outputs": []
    },
    {
      "cell_type": "code",
      "metadata": {
        "id": "_rYIzUYmEJhM",
        "colab_type": "code",
        "colab": {}
      },
      "source": [
        "for it in range(500):\n",
        "  # forward pass\n",
        "  h = x.mm(w_1)\n",
        "  h_relu = h.clamp(min=0)\n",
        "  y_pred = h_relu.mm(w_2)\n",
        "\n",
        "  #compute loss\n",
        "  loss = (y_pred-y).pow(2).sum().item()\n",
        "  print(it, loss)\n",
        "\n",
        "  #compute gradient\n",
        "  grad_y_pred = 2.0 * (y_pred - y)\n",
        "  grad_w_2 = h_relu.t().mm(grad_y_pred)\n",
        "  grad_h_relu = grad_y_pred.mm(w_2.T)\n",
        "  grad_h = grad_h_relu.clone() \n",
        "  grad_h[h<0] = 0\n",
        "  grad_w_1 = x.t().mm(grad_h)\n",
        "\n",
        "  #update w1 w2\n",
        "  w_1 -= learning_rate * grad_w_1\n",
        "  w_2 -= learning_rate * grad_w_2"
      ],
      "execution_count": 0,
      "outputs": []
    },
    {
      "cell_type": "code",
      "metadata": {
        "id": "6Jwp8x-VG9_3",
        "colab_type": "code",
        "colab": {}
      },
      "source": [
        "x = torch.tensor(1.,requires_grad=True)\n",
        "w = torch.tensor(2.,requires_grad=True)\n",
        "b = torch.tensor(3.,requires_grad=True)\n",
        "\n",
        "y = w*x + b\n",
        "y.backward()"
      ],
      "execution_count": 0,
      "outputs": []
    },
    {
      "cell_type": "code",
      "metadata": {
        "id": "jW_Qeoa7HoPb",
        "colab_type": "code",
        "colab": {
          "base_uri": "https://localhost:8080/",
          "height": 34
        },
        "outputId": "fffc4af7-d2aa-4327-d668-3ff31ace5308"
      },
      "source": [
        "print(w.grad)"
      ],
      "execution_count": 35,
      "outputs": [
        {
          "output_type": "stream",
          "text": [
            "tensor(1.)\n"
          ],
          "name": "stdout"
        }
      ]
    },
    {
      "cell_type": "code",
      "metadata": {
        "id": "l4MGeZFGJZnp",
        "colab_type": "code",
        "colab": {}
      },
      "source": [
        "x = torch.randn(N,D_in)\n",
        "y = torch.randn(N,D_out)\n",
        "\n",
        "w_1 = torch.randn(D_in, H, requires_grad=True)\n",
        "w_2 = torch.randn(H, D_out, requires_grad=True)"
      ],
      "execution_count": 0,
      "outputs": []
    },
    {
      "cell_type": "code",
      "metadata": {
        "id": "uZYjtO7KHtmJ",
        "colab_type": "code",
        "colab": {}
      },
      "source": [
        "for i in range(500):\n",
        "  # forward pass\n",
        "  y_pred = x.mm(w_1).clamp(min=0).mm(w_2)\n",
        "\n",
        "  #compute loss\n",
        "  loss = (y_pred-y).pow(2).sum() # computation graph\n",
        "  print(it, loss.item())\n",
        "\n",
        "  #compute gradient\n",
        "  w_1.grad.zero_()\n",
        "  w_2.grad.zero_()\n",
        "  loss.backward()\n",
        "\n",
        "  with torch.no_grad():\n",
        "    w_1 -= learning_rate * w_1.grad\n",
        "    w_2 -= learning_rate * w_2.grad\n",
        "\n",
        "\n"
      ],
      "execution_count": 0,
      "outputs": []
    },
    {
      "cell_type": "code",
      "metadata": {
        "id": "z6i_w1JpKPDF",
        "colab_type": "code",
        "colab": {}
      },
      "source": [
        "w_1.grad\n",
        "w_2.grad"
      ],
      "execution_count": 0,
      "outputs": []
    },
    {
      "cell_type": "markdown",
      "metadata": {
        "id": "IBMMOGY0MRKt",
        "colab_type": "text"
      },
      "source": [
        "## NN"
      ]
    },
    {
      "cell_type": "code",
      "metadata": {
        "id": "ZZpWKVTRMQKj",
        "colab_type": "code",
        "colab": {}
      },
      "source": [
        "import torch.nn as nn"
      ],
      "execution_count": 0,
      "outputs": []
    },
    {
      "cell_type": "code",
      "metadata": {
        "id": "G9pjq9oPJ4RT",
        "colab_type": "code",
        "colab": {}
      },
      "source": [
        "model = nn.Sequential(\n",
        "    nn.Linear(D_in,H),\n",
        "    torch.nn.ReLU(),\n",
        "    nn.Linear(H,D_out)\n",
        ")\n",
        "\n",
        "loss_fn = nn.MSELoss(reduction='sum')\n",
        "\n",
        "learning_rate = 1e-4\n",
        "optimizer = torch.optim.Adam(model.parameters(), lr=learning_rate)\n",
        "\n",
        "#init weight with normal\n",
        "# torch.nn.init.normal_(model[0].weight)\n",
        "# torch.nn.init.normal_(model[2].weight)\n",
        "\n",
        "\n",
        "for i in range(500):\n",
        "  # forward pass\n",
        "  y_pred = model(x)\n",
        "\n",
        "  #compute loss\n",
        "  loss = loss_fn(y_pred,y)\n",
        "  print(it, loss.item())\n",
        "\n",
        "  #compute gradient\n",
        "  optimizer.zero_grad()\n",
        "  loss.backward()\n",
        "\n",
        "  optimizer.step()\n"
      ],
      "execution_count": 0,
      "outputs": []
    },
    {
      "cell_type": "code",
      "metadata": {
        "id": "o1_vHOWsN9SE",
        "colab_type": "code",
        "colab": {
          "base_uri": "https://localhost:8080/",
          "height": 34
        },
        "outputId": "1488784d-4973-4f7d-acd0-c18b58b98a04"
      },
      "source": [
        "model[1]"
      ],
      "execution_count": 53,
      "outputs": [
        {
          "output_type": "execute_result",
          "data": {
            "text/plain": [
              "ReLU()"
            ]
          },
          "metadata": {
            "tags": []
          },
          "execution_count": 53
        }
      ]
    },
    {
      "cell_type": "code",
      "metadata": {
        "id": "PS2cWAjNOgx9",
        "colab_type": "code",
        "colab": {}
      },
      "source": [
        ""
      ],
      "execution_count": 0,
      "outputs": []
    }
  ]
}